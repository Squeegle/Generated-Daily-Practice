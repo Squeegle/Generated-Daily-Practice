{
 "cells": [
  {
   "cell_type": "markdown",
   "id": "010db142",
   "metadata": {},
   "source": [
    "# Pydantic Practice Exercises for AI Applications\n",
    "\n",
    "This notebook contains 10 practice exercises using **Pydantic**, tailored toward real-world AI-related use cases such as data validation, configuration, API input/output models, and more."
   ]
  },
  {
   "cell_type": "markdown",
   "id": "da55480f",
   "metadata": {},
   "source": [
    "## Exercise 1: Validate Input Data for a Sentiment Analysis API\n",
    "\n",
    "Define a Pydantic model `SentimentRequest` that validates a payload with:\n",
    "- `text`: a required string field\n",
    "- `language`: an optional string defaulting to `'en'`"
   ]
  },
  {
   "cell_type": "code",
   "execution_count": 1,
   "id": "58dc15c0",
   "metadata": {},
   "outputs": [],
   "source": [
    "# Your code here\n",
    "from pydantic import BaseModel\n",
    "\n",
    "class SentimentRequest(BaseModel):\n",
    "    text: str\n",
    "    language: str = 'en'"
   ]
  },
  {
   "cell_type": "markdown",
   "id": "0da981d3",
   "metadata": {},
   "source": [
    "## Exercise 2: Enforce Numeric Ranges in Model Parameters\n",
    "\n",
    "Create a model `ModelParams` for a neural network:\n",
    "- `learning_rate`: float between 0.0001 and 1.0\n",
    "- `epochs`: int >= 1"
   ]
  },
  {
   "cell_type": "code",
   "execution_count": 2,
   "id": "e5cc81dd",
   "metadata": {},
   "outputs": [],
   "source": [
    "# Your code here\n",
    "from pydantic import BaseModel, Field\n",
    "\n",
    "class ModelParams(BaseModel):\n",
    "    learning_rate: float = Field(..., ge=0.0001, le=1.0)\n",
    "    epochs: int = Field(..., ge=1)"
   ]
  },
  {
   "cell_type": "markdown",
   "id": "319bc409",
   "metadata": {},
   "source": [
    "## Exercise 3: Validate Nested Data for Image Metadata\n",
    "\n",
    "Create a model `ImageMetadata` with:\n",
    "- `filename`: str\n",
    "- `resolution`: a nested model with `width` and `height` (integers)"
   ]
  },
  {
   "cell_type": "code",
   "execution_count": 3,
   "id": "cc4ef3df",
   "metadata": {},
   "outputs": [],
   "source": [
    "# Your code here\n",
    "from pydantic import BaseModel\n",
    "\n",
    "class Resolution(BaseModel):\n",
    "    width: int\n",
    "    height: int\n",
    "\n",
    "class ImageMetadata(BaseModel):\n",
    "    filename: str\n",
    "    resolution: Resolution"
   ]
  },
  {
   "cell_type": "markdown",
   "id": "c47135aa",
   "metadata": {},
   "source": [
    "## Exercise 4: Enums for Model Selection\n",
    "\n",
    "Use an `Enum` in Pydantic to restrict a model `ModelChoice` with:\n",
    "- `model_name`: one of `'bert'`, `'gpt'`, `'roberta'`"
   ]
  },
  {
   "cell_type": "code",
   "execution_count": 4,
   "id": "caafd819",
   "metadata": {},
   "outputs": [],
   "source": [
    "# Your code here\n",
    "from pydantic import BaseModel\n",
    "from enum import Enum\n",
    "\n",
    "class ModelName(str, Enum):\n",
    "    bert = 'bert'\n",
    "    gpt = 'gpt'\n",
    "    roberta = 'roberta'\n",
    "\n",
    "class ModelChoice(BaseModel):\n",
    "    model_name: ModelName"
   ]
  },
  {
   "cell_type": "markdown",
   "id": "5c1c0b3b",
   "metadata": {},
   "source": [
    "## Exercise 5: Handle Optional Fields in Text Classification\n",
    "\n",
    "Define a model `TextInput`:\n",
    "- `text`: str\n",
    "- `category`: optional str, can be `None`"
   ]
  },
  {
   "cell_type": "code",
   "execution_count": 5,
   "id": "3e37c704",
   "metadata": {},
   "outputs": [],
   "source": [
    "# Your code here\n",
    "from pydantic import BaseModel\n",
    "from typing import Optional\n",
    "\n",
    "class TextInput(BaseModel):\n",
    "    text: str\n",
    "    category: Optional[str] = None"
   ]
  },
  {
   "cell_type": "markdown",
   "id": "2ee71fe1",
   "metadata": {},
   "source": [
    "## Exercise 6: Validate File Upload Metadata for a Data Labeling App\n",
    "\n",
    "Create a model `UploadMetadata` with:\n",
    "- `filename`: str\n",
    "- `file_size`: int, must be less than 10MB (10_000_000 bytes)\n",
    "- `label_type`: optional, defaults to `'text'`"
   ]
  },
  {
   "cell_type": "code",
   "execution_count": null,
   "id": "d39d603f",
   "metadata": {},
   "outputs": [],
   "source": [
    "# Your code here\n",
    "from pydantic import BaseModel, Field\n",
    "\n",
    "class UploadMetadata(BaseModel):\n",
    "    filename: str\n",
    "    file_size: int = Field(..., ge=0, le=10_000_000)\n",
    "    label_type: str = 'text'"
   ]
  },
  {
   "cell_type": "markdown",
   "id": "2b827a1b",
   "metadata": {},
   "source": [
    "## Exercise 7: Use Validators to Preprocess Data\n",
    "\n",
    "Create a model `NormalizedText`:\n",
    "- `text`: convert to lowercase and strip whitespace using a validator"
   ]
  },
  {
   "cell_type": "code",
   "execution_count": 9,
   "id": "5c958f64",
   "metadata": {},
   "outputs": [],
   "source": [
    "# Your code here\n",
    "from pydantic import BaseModel, field_validator\n",
    "\n",
    "class NormalizedText(BaseModel):\n",
    "    text: str\n",
    "\n",
    "    @field_validator('text')\n",
    "    def normalize(cls, v):\n",
    "        return v.strip().lower()\n",
    "        "
   ]
  },
  {
   "cell_type": "markdown",
   "id": "d96ec22c",
   "metadata": {},
   "source": [
    "## Exercise 8: Model Config with Aliases for External API Integration\n",
    "\n",
    "Define a model `ApiResponse` with:\n",
    "- `model_name` (aliased as `modelName` in JSON)\n",
    "- `confidence_score` (aliased as `confidenceScore`)\n",
    "Use the config to allow population by field name or alias."
   ]
  },
  {
   "cell_type": "code",
   "execution_count": 13,
   "id": "7aa76a8f",
   "metadata": {},
   "outputs": [],
   "source": [
    "# Your code here\n",
    "from pydantic import BaseModel, Field\n",
    "\n",
    "class ApiResponse(BaseModel):\n",
    "    model_name: str = Field(..., alias='modelName')\n",
    "    confidence_score: float = Field(..., alias='confidenceScore')\n",
    "\n",
    "    class Config:\n",
    "        validate_by_name = True"
   ]
  },
  {
   "cell_type": "markdown",
   "id": "58f9dcd0",
   "metadata": {},
   "source": [
    "## Exercise 9: List of Embeddings in Inference Output\n",
    "\n",
    "Create a model `EmbeddingOutput` with:\n",
    "- `vectors`: list of lists of floats (e.g., `List[List[float]]`)"
   ]
  },
  {
   "cell_type": "code",
   "execution_count": 14,
   "id": "2e85e067",
   "metadata": {},
   "outputs": [],
   "source": [
    "# Your code here\n",
    "from pydantic import BaseModel\n",
    "from typing import List\n",
    "\n",
    "class EmbeddingOutput(BaseModel):\n",
    "    vectors: List[List[float]]"
   ]
  },
  {
   "cell_type": "markdown",
   "id": "d9f1836f",
   "metadata": {},
   "source": [
    "## Exercise 10: Complex Schema for Batch Prediction\n",
    "\n",
    "Define a model `BatchPredictionRequest` with:\n",
    "- `inputs`: a list of `TextInput` models (reuse from Exercise 5)\n",
    "- `batch_id`: UUID"
   ]
  },
  {
   "cell_type": "code",
   "execution_count": 15,
   "id": "33dbd21b",
   "metadata": {},
   "outputs": [],
   "source": [
    "# Your code here\n",
    "from pydantic import BaseModel\n",
    "from typing import List\n",
    "from uuid import UUID\n",
    "\n",
    "class TextInput(BaseModel):\n",
    "    text: str\n",
    "    category: str = None\n",
    "\n",
    "class BatchPredictionRequest(BaseModel):\n",
    "    inputs: List[TextInput]\n",
    "    batch_id: UUID"
   ]
  }
 ],
 "metadata": {
  "kernelspec": {
   "display_name": ".venv",
   "language": "python",
   "name": "python3"
  },
  "language_info": {
   "codemirror_mode": {
    "name": "ipython",
    "version": 3
   },
   "file_extension": ".py",
   "mimetype": "text/x-python",
   "name": "python",
   "nbconvert_exporter": "python",
   "pygments_lexer": "ipython3",
   "version": "3.12.3"
  }
 },
 "nbformat": 4,
 "nbformat_minor": 5
}
