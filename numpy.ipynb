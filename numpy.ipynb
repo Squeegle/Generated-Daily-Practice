{
 "cells": [
  {
   "cell_type": "markdown",
   "id": "140c95ee",
   "metadata": {},
   "source": [
    "### 1. Create a NumPy Array\n",
    "Create a 1D NumPy array of integers from 0 to 9."
   ]
  },
  {
   "cell_type": "code",
   "execution_count": 6,
   "id": "bbd64fad",
   "metadata": {},
   "outputs": [
    {
     "name": "stdout",
     "output_type": "stream",
     "text": [
      "[0 1 2 3 4 5 6 7 8 9]\n"
     ]
    }
   ],
   "source": [
    "# Your code here\n",
    "import numpy as np\n",
    "\n",
    "arr = np.arange(10)\n",
    "print(arr)"
   ]
  },
  {
   "cell_type": "code",
   "execution_count": 7,
   "id": "e50376d6",
   "metadata": {},
   "outputs": [],
   "source": [
    "# Unit test\n",
    "import numpy as np\n",
    "assert (arr == np.arange(10)).all(), 'Array does not match expected range.'"
   ]
  },
  {
   "cell_type": "markdown",
   "id": "616560e4",
   "metadata": {},
   "source": [
    "### 2. Reshape an Array\n",
    "Reshape the array from the previous exercise into a 2x5 matrix."
   ]
  },
  {
   "cell_type": "code",
   "execution_count": 8,
   "id": "7f8c9e76",
   "metadata": {},
   "outputs": [
    {
     "name": "stdout",
     "output_type": "stream",
     "text": [
      "[[0 1 2 3 4]\n",
      " [5 6 7 8 9]]\n"
     ]
    }
   ],
   "source": [
    "# Your code here\n",
    "arr = arr.reshape((2, 5))\n",
    "print(arr)"
   ]
  },
  {
   "cell_type": "code",
   "execution_count": 9,
   "id": "64aacc2a",
   "metadata": {},
   "outputs": [],
   "source": [
    "# Unit test\n",
    "assert arr.shape == (2, 5), 'Shape is not 2x5.'"
   ]
  },
  {
   "cell_type": "markdown",
   "id": "d762f0e9",
   "metadata": {},
   "source": [
    "### 3. Element-wise Operations\n",
    "Multiply each element in the reshaped array by 2."
   ]
  },
  {
   "cell_type": "code",
   "execution_count": 10,
   "id": "eeac9d79",
   "metadata": {},
   "outputs": [
    {
     "name": "stdout",
     "output_type": "stream",
     "text": [
      "[[ 0  2  4  6  8]\n",
      " [10 12 14 16 18]]\n"
     ]
    }
   ],
   "source": [
    "# Your code here\n",
    "arr = arr * 2\n",
    "print(arr)"
   ]
  },
  {
   "cell_type": "code",
   "execution_count": 11,
   "id": "830d754d",
   "metadata": {},
   "outputs": [],
   "source": [
    "# Unit test\n",
    "assert (arr == np.arange(10).reshape(2,5)*2).all(), 'Elements not correctly multiplied.'"
   ]
  },
  {
   "cell_type": "markdown",
   "id": "f383db74",
   "metadata": {},
   "source": [
    "### 4. Boolean Masking\n",
    "Extract all elements from the array greater than 10."
   ]
  },
  {
   "cell_type": "code",
   "execution_count": 13,
   "id": "29c184ea",
   "metadata": {},
   "outputs": [
    {
     "name": "stdout",
     "output_type": "stream",
     "text": [
      "[12 14 16 18]\n"
     ]
    }
   ],
   "source": [
    "# Your code here\n",
    "result = arr[arr > 10]\n",
    "print(result)"
   ]
  },
  {
   "cell_type": "code",
   "execution_count": 14,
   "id": "0aa8a44a",
   "metadata": {},
   "outputs": [],
   "source": [
    "# Unit test\n",
    "assert (result == arr[arr > 10]).all(), 'Incorrect boolean masking.'"
   ]
  },
  {
   "cell_type": "markdown",
   "id": "8d3b52a4",
   "metadata": {},
   "source": [
    "### 5. Mean and Standard Deviation\n",
    "Compute the mean and standard deviation of the array."
   ]
  },
  {
   "cell_type": "code",
   "execution_count": 15,
   "id": "2794fa5e",
   "metadata": {},
   "outputs": [],
   "source": [
    "# Your code here\n",
    "mean = np.mean(arr)\n",
    "std = np.std(arr)"
   ]
  },
  {
   "cell_type": "code",
   "execution_count": 16,
   "id": "9bcbfdd9",
   "metadata": {},
   "outputs": [],
   "source": [
    "# Unit test\n",
    "assert abs(mean - np.mean(arr)) < 1e-6 and abs(std - np.std(arr)) < 1e-6, 'Incorrect mean or std.'"
   ]
  },
  {
   "cell_type": "markdown",
   "id": "1e6bc679",
   "metadata": {},
   "source": [
    "### 6. Matrix Multiplication\n",
    "Multiply a 2x3 matrix with a 3x2 matrix using `@` operator."
   ]
  },
  {
   "cell_type": "code",
   "execution_count": 17,
   "id": "c308a085",
   "metadata": {},
   "outputs": [
    {
     "name": "stdout",
     "output_type": "stream",
     "text": [
      "[[1.24868846 0.74288642]\n",
      " [0.77011034 0.6273925 ]]\n"
     ]
    }
   ],
   "source": [
    "# Your code here\n",
    "A = np.random.rand(2, 3)\n",
    "B = np.random.rand(3, 2)\n",
    "\n",
    "result = A @ B\n",
    "print(result)"
   ]
  },
  {
   "cell_type": "code",
   "execution_count": 18,
   "id": "7b0a98b4",
   "metadata": {},
   "outputs": [],
   "source": [
    "# Unit test\n",
    "assert result.shape == (2, 2), 'Resulting shape incorrect.'"
   ]
  },
  {
   "cell_type": "markdown",
   "id": "aca023c3",
   "metadata": {},
   "source": [
    "### 7. Broadcasting\n",
    "Add a 1D array [1, 2, 3] to each row of a 3x3 matrix using broadcasting."
   ]
  },
  {
   "cell_type": "code",
   "execution_count": 22,
   "id": "46bae1ad",
   "metadata": {},
   "outputs": [
    {
     "name": "stdout",
     "output_type": "stream",
     "text": [
      "[[ 2  5 12]\n",
      " [ 4  6 11]\n",
      " [ 3  2  4]]\n"
     ]
    }
   ],
   "source": [
    "# Your code here\n",
    "matrix = np.array([[1, 3, 9],\n",
    "                   [3, 4, 8],\n",
    "                   [2, 0, 1]])\n",
    "\n",
    "vector = np.array([1, 2, 3])\n",
    "\n",
    "result = matrix + vector\n",
    "print(result)"
   ]
  },
  {
   "cell_type": "code",
   "execution_count": 24,
   "id": "11a660c8",
   "metadata": {},
   "outputs": [],
   "source": [
    "# Unit test\n",
    "expected = np.array([[1,3,9],[3,4,8],[2,0,1]]) + np.array([1,2,3])\n",
    "assert (result == expected).all(), 'Broadcasting failed.'"
   ]
  },
  {
   "cell_type": "markdown",
   "id": "42c50238",
   "metadata": {},
   "source": [
    "### 8. Random Numbers\n",
    "Generate a 3x3 array of random numbers from a normal distribution with mean 0 and std 1."
   ]
  },
  {
   "cell_type": "code",
   "execution_count": 25,
   "id": "a39bfd4c",
   "metadata": {},
   "outputs": [],
   "source": [
    "# Your code here\n",
    "result = np.random.normal(loc=0.0, scale=1.0, size=(3, 3))"
   ]
  },
  {
   "cell_type": "code",
   "execution_count": 26,
   "id": "fa11df88",
   "metadata": {},
   "outputs": [],
   "source": [
    "# Unit test\n",
    "assert result.shape == (3,3), 'Shape incorrect.'"
   ]
  },
  {
   "cell_type": "markdown",
   "id": "245199fb",
   "metadata": {},
   "source": [
    "### 9. Argmax and Argmin\n",
    "Find the indices of the maximum and minimum values in a 1D array."
   ]
  },
  {
   "cell_type": "code",
   "execution_count": 27,
   "id": "0eeaeac4",
   "metadata": {},
   "outputs": [],
   "source": [
    "# Your code here\n",
    "arr = np.array([3, 7, 2, 9, 1, 5])\n",
    "\n",
    "max_idx = np.argmax(arr)\n",
    "min_idx = np.argmin(arr)"
   ]
  },
  {
   "cell_type": "code",
   "execution_count": 28,
   "id": "ff88ee03",
   "metadata": {},
   "outputs": [],
   "source": [
    "# Unit test\n",
    "assert arr[max_idx] == max(arr) and arr[min_idx] == min(arr), 'Incorrect indices for max or min.'"
   ]
  },
  {
   "cell_type": "markdown",
   "id": "e58075a1",
   "metadata": {},
   "source": [
    "### 10. Save and Load Arrays\n",
    "Save an array to disk using `np.save` and load it back using `np.load`."
   ]
  },
  {
   "cell_type": "code",
   "execution_count": 31,
   "id": "86937dc1",
   "metadata": {},
   "outputs": [],
   "source": [
    "# Your code here\n",
    "import os\n",
    "arr = np.array([1, 2, 3, 4, 5])\n",
    "\n",
    "np.save('my_array.npy', arr)\n",
    "\n",
    "loaded_arr = np.load('my_array.npy')"
   ]
  },
  {
   "cell_type": "code",
   "execution_count": 32,
   "id": "468c0a27",
   "metadata": {},
   "outputs": [],
   "source": [
    "# Unit test\n",
    "np.save('test.npy', arr)\n",
    "loaded = np.load('test.npy')\n",
    "os.remove('test.npy')\n",
    "assert (loaded == arr).all(), 'Saved and loaded array do not match.'"
   ]
  }
 ],
 "metadata": {
  "kernelspec": {
   "display_name": ".venv",
   "language": "python",
   "name": "python3"
  },
  "language_info": {
   "codemirror_mode": {
    "name": "ipython",
    "version": 3
   },
   "file_extension": ".py",
   "mimetype": "text/x-python",
   "name": "python",
   "nbconvert_exporter": "python",
   "pygments_lexer": "ipython3",
   "version": "3.12.3"
  }
 },
 "nbformat": 4,
 "nbformat_minor": 5
}
